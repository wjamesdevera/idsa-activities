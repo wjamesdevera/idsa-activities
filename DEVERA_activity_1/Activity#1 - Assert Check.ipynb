{
 "cells": [
  {
   "cell_type": "markdown",
   "id": "73b245db",
   "metadata": {},
   "source": [
    "# Activity #1\n",
    "\n",
    "Name: Winfrey De Vera<br>\n",
    "Section: 1ITE"
   ]
  },
  {
   "cell_type": "markdown",
   "id": "7a65e788",
   "metadata": {},
   "source": [
    "## Import Modules"
   ]
  },
  {
   "cell_type": "code",
   "execution_count": 1,
   "id": "37c40040",
   "metadata": {},
   "outputs": [],
   "source": [
    "# Pythong Modules\n",
    "import pandas as pd\n",
    "import numpy as np"
   ]
  },
  {
   "cell_type": "markdown",
   "id": "a4c0f8fc",
   "metadata": {},
   "source": [
    "0. Write the code to load the database building permit. Use the variable **building** for storing the database."
   ]
  },
  {
   "cell_type": "code",
   "execution_count": 2,
   "id": "ec5fbe89",
   "metadata": {},
   "outputs": [],
   "source": [
    "# Insert code here\n",
    "building = pd.read_csv('Building_Permits.csv', low_memory=False)"
   ]
  },
  {
   "cell_type": "code",
   "execution_count": 3,
   "id": "1617b30e",
   "metadata": {},
   "outputs": [],
   "source": [
    "# Assertion code (don't erase)\n",
    "\n",
    "#if condition returns False, AssertionError is raised:\n",
    "assert len(building) == 198900, \"Check code\""
   ]
  },
  {
   "cell_type": "markdown",
   "id": "b2c68587",
   "metadata": {},
   "source": [
    "1. Remove columns with more than 20% of missing/null values. Use a new variable **building_filter**."
   ]
  },
  {
   "cell_type": "code",
   "execution_count": 4,
   "id": "84948f94",
   "metadata": {},
   "outputs": [
    {
     "name": "stdout",
     "output_type": "stream",
     "text": [
      "Columns Removed\n",
      "* Street Number Suffix\n",
      "* Unit\n",
      "* Unit Suffix\n",
      "* Completed Date\n",
      "* Structural Notification\n",
      "* Number of Existing Stories\n",
      "* Number of Proposed Stories\n",
      "* Voluntary Soft-Story Retrofit\n",
      "* Fire Only Permit\n",
      "* Permit Expiration Date\n",
      "* Existing Use\n",
      "* Existing Units\n",
      "* Proposed Use\n",
      "* Proposed Units\n",
      "* TIDF Compliance\n",
      "* Existing Construction Type\n",
      "* Existing Construction Type Description\n",
      "* Proposed Construction Type\n",
      "* Proposed Construction Type Description\n",
      "* Site Permit\n"
     ]
    }
   ],
   "source": [
    "# Insert code here\n",
    "building_filter = building.copy()\n",
    "print(\"Columns Removed\")\n",
    "for col in building_filter:\n",
    "    sum_of_null = building_filter[col].isnull().sum()\n",
    "    if (sum_of_null > (len(building_filter) * 0.2)):\n",
    "        print(f\"* {col}\")\n",
    "        del building_filter[col]"
   ]
  },
  {
   "cell_type": "code",
   "execution_count": 5,
   "id": "08c56f3c",
   "metadata": {},
   "outputs": [],
   "source": [
    "# Assertion code (don't erase)\n",
    "\n",
    "assert len(building_filter.columns) == 23, \"Check Code\""
   ]
  },
  {
   "cell_type": "markdown",
   "id": "4d728651",
   "metadata": {},
   "source": [
    "2. After task 1, remove rows with missing values in any columns. Use the same variable, **building_filter**."
   ]
  },
  {
   "cell_type": "code",
   "execution_count": 6,
   "id": "e4a62886",
   "metadata": {},
   "outputs": [],
   "source": [
    "# Insert conde\n",
    "for col in building_filter:\n",
    "    building_filter = building_filter.dropna(subset=[col])"
   ]
  },
  {
   "cell_type": "code",
   "execution_count": 7,
   "id": "190585c1",
   "metadata": {},
   "outputs": [],
   "source": [
    "# Assertion code (don't erase)\n",
    "\n",
    "assert len(building_filter) == 143694, \"Check Code\""
   ]
  },
  {
   "cell_type": "markdown",
   "id": "b2b72e5b",
   "metadata": {},
   "source": [
    "3.  Replace the following data under the **Current Status** column:\n",
    "- reinstated, issued, approved -> complete\n",
    "- incomplete -> ongoing\n",
    "- expired, withdrawn, suspend, revoked -> cancelled"
   ]
  },
  {
   "cell_type": "code",
   "execution_count": 8,
   "id": "998c9599",
   "metadata": {},
   "outputs": [],
   "source": [
    "# Insert code\n",
    "status_change = {\"reinstated\": \"complete\",\n",
    "                \"issued\": \"complete\",\n",
    "                \"approved\": \"complete\",\n",
    "                \"filed\": \"ongoing\",\n",
    "                \"planecheck\": \"ongoing\",\n",
    "                \"incomplete\": \"ongoing\",\n",
    "                \"appeal\": \"ongoing\",\n",
    "                \"expired\": \"cancelled\",\n",
    "                \"withdrawn\": \"cancelled\",\n",
    "                \"suspend\": \"cancelled\",\n",
    "                \"revoked\": \"cancelled\",\n",
    "                \"disapproved\": \"cancelled\"}\n",
    "\n",
    "building_filter = building_filter.replace({\"Current Status\": status_change})"
   ]
  },
  {
   "cell_type": "code",
   "execution_count": 9,
   "id": "2f9ffe9f",
   "metadata": {},
   "outputs": [],
   "source": [
    "# Assertion code (don't erase)\n",
    "assert list(building_filter[\"Current Status\"].unique()) == ['cancelled', 'complete', 'ongoing'], \"Check Code\"\n",
    "assert list(building_filter[\"Current Status\"].value_counts()) == [140951, 2742, 1], \"Check Code\""
   ]
  },
  {
   "cell_type": "markdown",
   "id": "b417e7dc",
   "metadata": {},
   "source": [
    "4. Write an .csv file for submission"
   ]
  },
  {
   "cell_type": "code",
   "execution_count": 10,
   "id": "764868ea",
   "metadata": {},
   "outputs": [],
   "source": [
    "# Insert Code Here\n",
    "building_filter.to_csv(\"Building_Permit_Filtered.csv\");"
   ]
  }
 ],
 "metadata": {
  "kernelspec": {
   "display_name": "Python 3 (ipykernel)",
   "language": "python",
   "name": "python3"
  },
  "language_info": {
   "codemirror_mode": {
    "name": "ipython",
    "version": 3
   },
   "file_extension": ".py",
   "mimetype": "text/x-python",
   "name": "python",
   "nbconvert_exporter": "python",
   "pygments_lexer": "ipython3",
   "version": "3.9.13"
  },
  "vscode": {
   "interpreter": {
    "hash": "52634da84371cba311ea128a5ea7cdc41ff074b781779e754b270ff9f8153cee"
   }
  }
 },
 "nbformat": 4,
 "nbformat_minor": 5
}
